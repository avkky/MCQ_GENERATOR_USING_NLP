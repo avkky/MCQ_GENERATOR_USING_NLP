{
  "nbformat": 4,
  "nbformat_minor": 0,
  "metadata": {
    "colab": {
      "provenance": []
    },
    "kernelspec": {
      "name": "python3",
      "display_name": "Python 3"
    },
    "language_info": {
      "name": "python"
    }
  },
  "cells": [
    {
      "cell_type": "markdown",
      "source": [
        "## **MCQ GENERATOR USING SPACY**"
      ],
      "metadata": {
        "id": "8CvsIcGXl6Ey"
      }
    },
    {
      "cell_type": "code",
      "execution_count": null,
      "metadata": {
        "id": "O_ucy-wBXuC2"
      },
      "outputs": [],
      "source": [
        "import spacy\n",
        "import random\n",
        "\n",
        "# Load English language model\n",
        "nlp = spacy.load(\"en_core_web_sm\")\n",
        "\n",
        "def get_mca_questions(context: str, num_questions: int):\n",
        "    doc = nlp(context)\n",
        "\n",
        "    def generate_mcq_with_multiple_correct(question, correct_answers, other_options, num_options=4):\n",
        "        options = correct_answers + other_options\n",
        "        random.shuffle(options)\n",
        "\n",
        "        mcq = {\n",
        "            \"question\": question,\n",
        "            \"options\": options,\n",
        "            \"correct_answers\": correct_answers\n",
        "        }\n",
        "\n",
        "        return mcq\n",
        "\n",
        "    def generate_variety_question():\n",
        "        sentence = random.choice(list(doc.sents))\n",
        "        blank_word = random.choice([token for token in sentence if not token.is_punct])\n",
        "\n",
        "        question_text = sentence.text.replace(blank_word.text, \"______\")\n",
        "        correct_answers = [blank_word.text]\n",
        "\n",
        "        other_options = [token.text for token in doc if token.is_alpha and token.text != correct_answers[0]]\n",
        "        num_correct_options = random.randint(1, 2)  # Generate 1 or 2 correct options\n",
        "        correct_answers.extend(random.sample(other_options, num_correct_options))\n",
        "\n",
        "        num_other_options = min(4 - num_correct_options, len(other_options))\n",
        "        other_options = random.sample(other_options, num_other_options)\n",
        "\n",
        "        mcq = generate_mcq_with_multiple_correct(question_text, correct_answers, other_options)\n",
        "        return mcq\n",
        "\n",
        "    questions = [generate_variety_question() for _ in range(num_questions)]\n",
        "\n",
        "    mca_questions = []\n",
        "    for i, question in enumerate(questions, start=1):\n",
        "        question_str = f\"Q{i}: {question['question']}\\n\"\n",
        "        options_str = \"\"\n",
        "        for j, option in enumerate(question['options']):\n",
        "            options_str += f\"{j+1}. {option}\\n\"\n",
        "\n",
        "        correct_options_formatted = \" & \".join([f\"({chr(97+question['options'].index(ans))})\" for ans in question['correct_answers']])\n",
        "        correct_options_str = f\"Correct Options: {correct_options_formatted}\"\n",
        "\n",
        "        mca_question = f\"{question_str}{options_str}{correct_options_str}\\n\"\n",
        "        mca_questions.append(mca_question)\n",
        "\n",
        "    return mca_questions\n",
        "\n",
        "context = input(\"Enter the paragraph: \")\n",
        "num_questions = int(input(\"Enter the number of questions: \"))\n",
        "mca_questions = get_mca_questions(context, num_questions)\n",
        "for question in mca_questions:\n",
        "    print(question)\n"
      ]
    },
    {
      "cell_type": "markdown",
      "source": [
        "\n",
        "The program takes a paragraph from the user and creates multiple-choice questions using Spacy. It generates different question formats, like fill-in-the-blank, with various correct options. The user specifies the number of questions, and the program displays these questions along with their answer choices. This is useful for making interactive quizzes or assessments."
      ],
      "metadata": {
        "id": "AsXkskwTmRYB"
      }
    }
  ]
}